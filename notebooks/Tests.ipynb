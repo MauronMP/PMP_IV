{
 "cells": [
  {
   "cell_type": "code",
   "execution_count": 1,
   "id": "2ed4e2a0",
   "metadata": {},
   "outputs": [
    {
     "ename": "SyntaxError",
     "evalue": "unexpected EOF while parsing (<ipython-input-1-1097f0189514>, line 7)",
     "output_type": "error",
     "traceback": [
      "\u001b[0;36m  File \u001b[0;32m\"<ipython-input-1-1097f0189514>\"\u001b[0;36m, line \u001b[0;32m7\u001b[0m\n\u001b[0;31m    def filtrado_Mes():\u001b[0m\n\u001b[0m                       ^\u001b[0m\n\u001b[0;31mSyntaxError\u001b[0m\u001b[0;31m:\u001b[0m unexpected EOF while parsing\n"
     ]
    }
   ],
   "source": [
    "%run /home/mauron/Dropbox/UGR/IV/notebooks/Datos.ipynb\n",
    "\n",
    "def leeCSV():\n",
    "    datos = Datos()\n",
    "    return datos.getDF()\n",
    "\n",
    "def filtrado_Mes():\n",
    "    muestreoMes = Datos()\n",
    "    muestreoMes = muestreoMes.filtrar_mes_dia([[\"month\", \"==\", \"'aug'\"], [\"day\", \"==\", \"'mon'\"]])\n",
    "    mes = muestreoMes['month']\n",
    "    mes.to_dict()\n",
    "    return mes\n",
    "\n",
    "def filtrado_Viento():\n",
    "    filtrado_Mes()\n",
    "    muestreoMes = Datos()\n",
    "    mes = muestreoMes.filtrarViento([[\"month\", \"==\", \"'aug'\"], [\"day\", \"==\", \"'mon'\"]])\n",
    "    mes['wind']\n",
    "    return (list(mes.columns))\n",
    "\n",
    "def comprobar_Imagen():\n",
    "    datos = Datos()\n",
    "    return datos.diagramaDispersion()"
   ]
  },
  {
   "cell_type": "code",
   "execution_count": null,
   "id": "fd7cb8e5",
   "metadata": {},
   "outputs": [],
   "source": []
  }
 ],
 "metadata": {
  "kernelspec": {
   "display_name": "Python 3.8.10 64-bit",
   "language": "python",
   "name": "python3"
  },
  "language_info": {
   "codemirror_mode": {
    "name": "ipython",
    "version": 3
   },
   "file_extension": ".py",
   "mimetype": "text/x-python",
   "name": "python",
   "nbconvert_exporter": "python",
   "pygments_lexer": "ipython3",
   "version": "3.8.10"
  },
  "vscode": {
   "interpreter": {
    "hash": "916dbcbb3f70747c44a77c7bcd40155683ae19c65e1c03b4aa3499c5328201f1"
   }
  }
 },
 "nbformat": 4,
 "nbformat_minor": 5
}
