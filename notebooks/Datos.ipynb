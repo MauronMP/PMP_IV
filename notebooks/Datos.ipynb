{
 "cells": [
  {
   "cell_type": "markdown",
   "id": "d47e298c",
   "metadata": {},
   "source": [
    "# Obtención de los datos."
   ]
  },
  {
   "cell_type": "code",
   "execution_count": 3,
   "id": "347b50c9",
   "metadata": {},
   "outputs": [],
   "source": [
    "import pandas as pd\n",
    "import numpy as np\n",
    "\n",
    "class Datos():\n",
    "    \n",
    "    def __init__(self):\n",
    "        self.df = pd.read_csv('../data/incendiosForestales.csv')\n",
    "        \n",
    "    def getDF(self):\n",
    "        return self.df\n",
    "    \n",
    "    def filtrar_mes_dia(self,args_list):\n",
    "        df = self.df\n",
    "        constraints = []\n",
    "        for a in args_list:\n",
    "            col = a[0]\n",
    "            symbol = a[1]\n",
    "            value = a[2]\n",
    "            constraint = \"(df.{}{}{})\".format(col, symbol, value)\n",
    "            constraints.append(constraint)\n",
    "            \n",
    "        filter_str = \"&\".join(constraints)\n",
    "\n",
    "        return df[eval(filter_str)]\n",
    "    \n",
    "    def filtrarViento(self,args_list):\n",
    "        df = self.filtrar_mes_dia(args_list)\n",
    "        df = df[['X','Y','month','day','wind']]\n",
    "        filtrado = df.sort_values('wind', ascending=False).drop_duplicates(['X', 'Y']).sort_index()\n",
    "        return filtrado\n",
    "    \n",
    "    def diagramaDispersion(self):\n",
    "        df = self.df\n",
    "        df['Log-area']=np.log10(df['area']+1)\n",
    "        for i in df.describe().columns[:-2]:\n",
    "            muestra = df.plot.scatter(i,'Log-area',grid=True)\n",
    "            muestra.figure.savefig('../output/'+i+'.png',dpi=200)"
   ]
  }
 ],
 "metadata": {
  "kernelspec": {
   "display_name": "Python 3.8.10 64-bit",
   "language": "python",
   "name": "python3"
  },
  "language_info": {
   "codemirror_mode": {
    "name": "ipython",
    "version": 3
   },
   "file_extension": ".py",
   "mimetype": "text/x-python",
   "name": "python",
   "nbconvert_exporter": "python",
   "pygments_lexer": "ipython3",
   "version": "3.8.10"
  },
  "vscode": {
   "interpreter": {
    "hash": "916dbcbb3f70747c44a77c7bcd40155683ae19c65e1c03b4aa3499c5328201f1"
   }
  }
 },
 "nbformat": 4,
 "nbformat_minor": 5
}
